{
 "cells": [
  {
   "cell_type": "code",
   "execution_count": 3,
   "metadata": {},
   "outputs": [],
   "source": [
    "import pandas as pd\n",
    "import os"
   ]
  },
  {
   "cell_type": "code",
   "execution_count": 2,
   "metadata": {},
   "outputs": [],
   "source": [
    "directory = ['balance-sheet', 'cash-flow-statement', 'financial-statements', 'financial-ratios']"
   ]
  },
  {
   "cell_type": "code",
   "execution_count": 15,
   "metadata": {},
   "outputs": [],
   "source": [
    "ticker_to_df = {}\n",
    "for d in directory:\n",
    "    # iterate through files in directory\n",
    "    for b in os.listdir(d):\n",
    "        for filename in os.listdir(d+ '/' +b):\n",
    "            # Read csv file\n",
    "            df = pd.read_csv(d+ '/' + b + '/' + filename)\n",
    "            ticker = filename.split(\"-\")[0]\n",
    "            # Add suffix to column names of dataframe\n",
    "\n",
    "            df.columns = ['Date'] + [str(col) + \"-\" + b for col in df.columns[1:]]\n",
    "            # Add dataframe to dictionary\n",
    "            if ticker not in ticker_to_df:\n",
    "                ticker_to_df[ticker+\"-\"+b] = df\n",
    "            else:\n",
    "                ticker_to_df[ticker+\"-\"+b] = pd.merge(ticker_to_df[ticker], df, on='Date', how='outer')\n",
    "            \n"
   ]
  },
  {
   "cell_type": "code",
   "execution_count": 16,
   "metadata": {},
   "outputs": [],
   "source": [
    "# Save df as csv file\n",
    "for ticker in ticker_to_df:\n",
    "    ticker_to_df[ticker].to_csv('combined/' + ticker + '.csv', index=False)"
   ]
  },
  {
   "cell_type": "code",
   "execution_count": null,
   "metadata": {},
   "outputs": [],
   "source": []
  }
 ],
 "metadata": {
  "kernelspec": {
   "display_name": "base",
   "language": "python",
   "name": "python3"
  },
  "language_info": {
   "codemirror_mode": {
    "name": "ipython",
    "version": 3
   },
   "file_extension": ".py",
   "mimetype": "text/x-python",
   "name": "python",
   "nbconvert_exporter": "python",
   "pygments_lexer": "ipython3",
   "version": "3.9.12"
  },
  "orig_nbformat": 4
 },
 "nbformat": 4,
 "nbformat_minor": 2
}
