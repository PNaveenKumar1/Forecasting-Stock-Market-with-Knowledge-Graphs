{
 "cells": [
  {
   "cell_type": "code",
   "execution_count": 1,
   "metadata": {},
   "outputs": [],
   "source": [
    "import pandas as pd\n",
    "\n",
    "df      = pd.read_excel(\"Selecting-A-GICS-Industry-Code.xlsx\", sheet_name=\"Companies in GICS and SICs \")\n",
    "desc_df = pd.read_excel(\"Selecting-A-GICS-Industry-Code.xlsx\", sheet_name=\"GICS Descriptions\")"
   ]
  },
  {
   "attachments": {},
   "cell_type": "markdown",
   "metadata": {},
   "source": [
    "Gets Tickers of Companies listed in the chosen Index"
   ]
  },
  {
   "cell_type": "code",
   "execution_count": null,
   "metadata": {},
   "outputs": [],
   "source": [
    "INDEX = \"nasdaq100\" \n",
    "\n",
    "directory = \"../../data/\" + INDEX + \"/\"\n",
    "\n",
    "ticker_list = {}\n",
    "for filename in os.listdir(directory):\n",
    "    f = os.path.join(directory, filename)\n",
    "    if os.path.isfile(f):\n",
    "        sector, name, ticker, start, end = filename.split(\"-\")\n",
    "        ticker_list[ticker] = [name, sector]"
   ]
  },
  {
   "attachments": {},
   "cell_type": "markdown",
   "metadata": {},
   "source": [
    "Creates the map from sector to tickers of the companies present in the index"
   ]
  },
  {
   "cell_type": "code",
   "execution_count": 26,
   "metadata": {},
   "outputs": [],
   "source": [
    "sector_map = {}\n",
    "for index, row in df.iterrows():\n",
    "    if row[1] in ticker_list:\n",
    "        for j in range(6, 10):\n",
    "            if row[j] not in sector_map:\n",
    "                sector_map[row[j]] = [row[1]]\n",
    "            else:\n",
    "                sector_map[row[j]] = sector_map[row[j]] + [row[1]]"
   ]
  },
  {
   "attachments": {},
   "cell_type": "markdown",
   "metadata": {},
   "source": [
    "Gets the descriptions of the sectors"
   ]
  },
  {
   "cell_type": "code",
   "execution_count": 47,
   "metadata": {},
   "outputs": [],
   "source": [
    "sector_desc = {}\n",
    "for index, row in desc_df.iterrows():\n",
    "    if type(row[0]) == int:\n",
    "        sector_desc[row[0]] = row[1]\n",
    "    if type(row[2]) == int:\n",
    "        sector_desc[row[2]] = row[3]\n",
    "    if type(row[4]) == int:\n",
    "        sector_desc[row[4]] = row[5]\n",
    "    if type(row[6]) == int:\n",
    "        sector_desc[row[6]] = row[7]"
   ]
  },
  {
   "attachments": {},
   "cell_type": "markdown",
   "metadata": {},
   "source": [
    "Creates and stores the hypergraph in a file"
   ]
  },
  {
   "cell_type": "code",
   "execution_count": null,
   "metadata": {},
   "outputs": [],
   "source": [
    "sector_map = dict(sorted(sector_map.items()))\n",
    "\n",
    "sector_hypergraph = open(\"sector_hypergraph_\"+INDEX+\".txt\", \"w\")\n",
    "sector_hypergraph.write(\"sector\\tdescription\\tnode_list\\n\")\n",
    "\n",
    "for sector, node_list in sector_map.items():\n",
    "    node_list_str = \"\\t\".join([str(x) for x in node_list])\n",
    "    sector_hypergraph.write(\"{0}\\t{1}\\t{2}\\n\".format(sector, sector_desc[int(sector)], node_list_str))\n",
    "sector_hypergraph.close()"
   ]
  }
 ],
 "metadata": {
  "kernelspec": {
   "display_name": "base",
   "language": "python",
   "name": "python3"
  },
  "language_info": {
   "codemirror_mode": {
    "name": "ipython",
    "version": 3
   },
   "file_extension": ".py",
   "mimetype": "text/x-python",
   "name": "python",
   "nbconvert_exporter": "python",
   "pygments_lexer": "ipython3",
   "version": "3.9.19"
  },
  "orig_nbformat": 4,
  "vscode": {
   "interpreter": {
    "hash": "82c36bf2dc7bc97628b9e43543d03433a2e60a09cf06bbc88105c7bffe751e99"
   }
  }
 },
 "nbformat": 4,
 "nbformat_minor": 2
}
