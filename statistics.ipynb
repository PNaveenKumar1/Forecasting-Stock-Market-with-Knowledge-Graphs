{
 "cells": [
  {
   "attachments": {},
   "cell_type": "markdown",
   "metadata": {},
   "source": [
    "## Possible returns from S&P 500 and NASDAQ 100 indices"
   ]
  },
  {
   "cell_type": "code",
   "execution_count": 20,
   "metadata": {},
   "outputs": [
    {
     "name": "stdout",
     "output_type": "stream",
     "text": [
      "File exists\n",
      "Mean returns in %:  6.071435942391165\n"
     ]
    }
   ],
   "source": [
    "import argparse\n",
    "import csv\n",
    "import urllib.request\n",
    "import datetime\n",
    "import time\n",
    "from os.path import exists\n",
    "import pandas as pd\n",
    "import argparse\n",
    "\n",
    "def get_unix_time(year, month, day):\n",
    "\n",
    "    date_time = datetime.datetime(year=year, month=month, day=day)\n",
    "    return int(time.mktime(date_time.timetuple()))\n",
    "\n",
    "start_time = get_unix_time(2003, 1, 1)\n",
    "end_time   = get_unix_time(2023, 1, 1)\n",
    "\n",
    "company = \"%5EGSPC\"\n",
    "retrieve_url = \"https://query1.finance.yahoo.com/v7/finance/download/\" + company + \\\n",
    "                        \"?period1=\" + str(start_time) + \"&period2=\" + str(end_time) + \\\n",
    "                        \"&interval=1d&events=history&includeAdjustedClose=true\"\n",
    "        \n",
    "\n",
    "#save_file_name =  \"sp500.csv\"\n",
    "\n",
    "if exists(\"data/\"+ \"sp500\" + \"/\" +save_file_name):\n",
    "    print(\"File exists\")\n",
    "else:    \n",
    "    urllib.request.urlretrieve(retrieve_url, \"data/\"+ \"sp500\" + \"/\" +save_file_name)\n",
    "\n",
    "save_file_name = 'AAPL-Apple.csv'\n",
    "\n",
    "# Initial 300 days - Train and Val periods are left out\n",
    "df = pd.read_csv(\"data/\"+ \"sp500\" + \"/\" +save_file_name)\n",
    "if df.shape[0] > 2500:\n",
    "    df = df.iloc[-2500:]\n",
    "\n",
    "# Final 250 days - Prediction gap\n",
    "mean_ret = 0\n",
    "for i in range(2250):\n",
    "    close_now = df.iloc[i]['Close']\n",
    "    close_target = df.iloc[i+50]['Close']\n",
    "    mean_ret += (close_target - close_now)/close_now\n",
    "mean_ret /= 2250\n",
    "print(\"Mean returns in %: \", mean_ret*100)"
   ]
  },
  {
   "cell_type": "code",
   "execution_count": 5,
   "metadata": {},
   "outputs": [
    {
     "data": {
      "text/plain": [
       "0.8880486665446505"
      ]
     },
     "execution_count": 5,
     "metadata": {},
     "output_type": "execute_result"
    }
   ],
   "source": [
    "import numpy as np\n",
    "from sklearn.metrics import ndcg_score\n",
    "# we have groud-truth relevance of some answers to a query:\n",
    "true_relevance = np.asarray([[5, 4, 3, 2, 1, 0]])\n",
    "# we predict some scores (relevance) for the answers\n",
    "scores = np.asarray([[0, 4/15, 3/15, 2/15, 0, 1/15]])\n",
    "ndcg_score(true_relevance, scores)"
   ]
  },
  {
   "cell_type": "code",
   "execution_count": null,
   "metadata": {},
   "outputs": [],
   "source": []
  }
 ],
 "metadata": {
  "kernelspec": {
   "display_name": "base",
   "language": "python",
   "name": "python3"
  },
  "language_info": {
   "codemirror_mode": {
    "name": "ipython",
    "version": 3
   },
   "file_extension": ".py",
   "mimetype": "text/x-python",
   "name": "python",
   "nbconvert_exporter": "python",
   "pygments_lexer": "ipython3",
   "version": "3.9.12"
  },
  "orig_nbformat": 4
 },
 "nbformat": 4,
 "nbformat_minor": 2
}
