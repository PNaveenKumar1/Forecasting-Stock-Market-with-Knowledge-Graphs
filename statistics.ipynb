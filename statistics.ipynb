{
 "cells": [
  {
   "attachments": {},
   "cell_type": "markdown",
   "metadata": {},
   "source": [
    "## Possible returns from S&P 500 and NASDAQ 100 indices"
   ]
  },
  {
   "cell_type": "code",
   "execution_count": 20,
   "metadata": {},
   "outputs": [
    {
     "name": "stdout",
     "output_type": "stream",
     "text": [
      "File exists\n",
      "Mean returns in %:  6.071435942391165\n"
     ]
    }
   ],
   "source": [
    "import argparse\n",
    "import csv\n",
    "import urllib.request\n",
    "import datetime\n",
    "import time\n",
    "from os.path import exists\n",
    "import pandas as pd\n",
    "import argparse\n",
    "\n",
    "def get_unix_time(year, month, day):\n",
    "\n",
    "    date_time = datetime.datetime(year=year, month=month, day=day)\n",
    "    return int(time.mktime(date_time.timetuple()))\n",
    "\n",
    "start_time = get_unix_time(2003, 1, 1)\n",
    "end_time   = get_unix_time(2023, 1, 1)\n",
    "\n",
    "company = \"%5EGSPC\"\n",
    "retrieve_url = \"https://query1.finance.yahoo.com/v7/finance/download/\" + company + \\\n",
    "                        \"?period1=\" + str(start_time) + \"&period2=\" + str(end_time) + \\\n",
    "                        \"&interval=1d&events=history&includeAdjustedClose=true\"\n",
    "        \n",
    "\n",
    "#save_file_name =  \"sp500.csv\"\n",
    "\n",
    "if exists(\"data/\"+ \"sp500\" + \"/\" +save_file_name):\n",
    "    print(\"File exists\")\n",
    "else:    \n",
    "    urllib.request.urlretrieve(retrieve_url, \"data/\"+ \"sp500\" + \"/\" +save_file_name)\n",
    "\n",
    "save_file_name = 'AAPL-Apple.csv'\n",
    "\n",
    "# Initial 300 days - Train and Val periods are left out\n",
    "df = pd.read_csv(\"data/\"+ \"sp500\" + \"/\" +save_file_name)\n",
    "if df.shape[0] > 2500:\n",
    "    df = df.iloc[-2500:]\n",
    "\n",
    "# Final 250 days - Prediction gap\n",
    "mean_ret = 0\n",
    "for i in range(2250):\n",
    "    close_now = df.iloc[i]['Close']\n",
    "    close_target = df.iloc[i+50]['Close']\n",
    "    mean_ret += (close_target - close_now)/close_now\n",
    "mean_ret /= 2250\n",
    "print(\"Mean returns in %: \", mean_ret*100)"
   ]
  },
  {
   "cell_type": "code",
   "execution_count": 24,
   "metadata": {},
   "outputs": [
    {
     "name": "stdout",
     "output_type": "stream",
     "text": [
      "0.714784791540774\n",
      "tensor(0.7222)\n",
      "tensor([[2.8339, 2.9335, 3.0333, 3.1330, 3.2323, 2.8339]], dtype=torch.float64)\n",
      "tensor(0.7222)\n",
      "torch.Size([1, 1, 6]) torch.Size([1, 1, 6]) tensor([6.]) torch.Size([1, 6])\n",
      "tensor([0.], dtype=torch.float64)\n"
     ]
    }
   ],
   "source": [
    "import numpy as np\n",
    "from sklearn.metrics import ndcg_score\n",
    "# we have groud-truth relevance of some answers to a query:\n",
    "true_relevance = np.asarray([[5, 4, 3, 2, 1, 0]])\n",
    "# we predict some scores (relevance) for the answers\n",
    "scores = np.asarray([[0/15, 1/15, 2/15, 3/15, 4/15, 0/15]])\n",
    "print(ndcg_score(true_relevance, scores))\n",
    "\n",
    "from torchmetrics.functional import retrieval_normalized_dcg\n",
    "import torch\n",
    "preds = torch.tensor(scores)\n",
    "target = torch.tensor(true_relevance)\n",
    "print(retrieval_normalized_dcg(preds, target))\n",
    "\n",
    "list_size = preds.shape[1]\n",
    "x = preds.unsqueeze(2).repeat(1, 1, list_size)\n",
    "y = preds.unsqueeze(1).repeat(1, list_size, 1)\n",
    "rank = torch.sigmoid(x-y)\n",
    "rank = torch.sum(rank, dim=-1) \n",
    "print(rank)\n",
    "print(retrieval_normalized_dcg(rank, target))\n",
    "\n",
    "\n",
    "from pytorchltr.loss import LambdaNDCGLoss1, LambdaNDCGLoss2\n",
    "lfn = LambdaNDCGLoss2(sigma=10)\n",
    "print(preds.unsqueeze(dim=0).shape, target.unsqueeze(dim=0).shape, torch.Tensor([target.shape[1]]), target.shape)\n",
    "a = lfn(preds.cpu(), target.cpu(), torch.Tensor([target.shape[0]]))\n",
    "print(a)"
   ]
  },
  {
   "cell_type": "code",
   "execution_count": 2,
   "metadata": {},
   "outputs": [
    {
     "name": "stderr",
     "output_type": "stream",
     "text": [
      "/raid/home/kawinm/miniconda3/lib/python3.9/site-packages/tqdm/auto.py:22: TqdmWarning: IProgress not found. Please update jupyter and ipywidgets. See https://ipywidgets.readthedocs.io/en/stable/user_install.html\n",
      "  from .autonotebook import tqdm as notebook_tqdm\n"
     ]
    },
    {
     "data": {
      "text/plain": [
       "-0.655107"
      ]
     },
     "execution_count": 2,
     "metadata": {},
     "output_type": "execute_result"
    }
   ],
   "source": [
    "import tensorflow_ranking as tfr\n",
    "import torch\n",
    "\n",
    "y_true = torch.Tensor([[1., 0.]])\n",
    "y_pred = torch.Tensor([[0.6, 0.8]])\n",
    "loss = tfr.keras.losses.ApproxNDCGLoss()\n",
    "loss(y_true, y_pred).numpy()\n"
   ]
  },
  {
   "cell_type": "code",
   "execution_count": 3,
   "metadata": {},
   "outputs": [
    {
     "data": {
      "text/plain": [
       "torch.Size([1])"
      ]
     },
     "execution_count": 3,
     "metadata": {},
     "output_type": "execute_result"
    }
   ],
   "source": [
    "torch.Tensor([1]).shape"
   ]
  },
  {
   "cell_type": "code",
   "execution_count": 7,
   "metadata": {},
   "outputs": [
    {
     "name": "stdout",
     "output_type": "stream",
     "text": [
      "Collecting tensorflow_ranking\n",
      "  Downloading tensorflow_ranking-0.5.2-py2.py3-none-any.whl (150 kB)\n",
      "\u001b[2K     \u001b[90m━━━━━━━━━━━━━━━━━━━━━━━━━━━━━━━━━━━━━━━\u001b[0m \u001b[32m150.4/150.4 kB\u001b[0m \u001b[31m3.0 MB/s\u001b[0m eta \u001b[36m0:00:00\u001b[0ma \u001b[36m0:00:01\u001b[0m\n",
      "\u001b[?25hRequirement already satisfied: absl-py>=0.1.6 in /raid/home/kawinm/miniconda3/lib/python3.9/site-packages (from tensorflow_ranking) (1.4.0)\n",
      "Requirement already satisfied: six>=1.10.0 in /raid/home/kawinm/miniconda3/lib/python3.9/site-packages (from tensorflow_ranking) (1.16.0)\n",
      "Collecting numpy==1.23.2\n",
      "  Downloading numpy-1.23.2-cp39-cp39-manylinux_2_17_x86_64.manylinux2014_x86_64.whl (17.1 MB)\n",
      "\u001b[2K     \u001b[90m━━━━━━━━━━━━━━━━━━━━━━━━━━━━━━━━━━━━━━━━\u001b[0m \u001b[32m17.1/17.1 MB\u001b[0m \u001b[31m77.9 MB/s\u001b[0m eta \u001b[36m0:00:00\u001b[0m00:01\u001b[0m0:01\u001b[0m\n",
      "\u001b[?25hCollecting tensorflow-serving-api<3.0.0,>=2.0.0\n",
      "  Downloading tensorflow_serving_api-2.11.1-py2.py3-none-any.whl (37 kB)\n",
      "Collecting protobuf<3.20,>=3.9.2\n",
      "  Downloading protobuf-3.19.6-cp39-cp39-manylinux_2_17_x86_64.manylinux2014_x86_64.whl (1.1 MB)\n",
      "\u001b[2K     \u001b[90m━━━━━━━━━━━━━━━━━━━━━━━━━━━━━━━━━━━━━━━━\u001b[0m \u001b[32m1.1/1.1 MB\u001b[0m \u001b[31m101.4 MB/s\u001b[0m eta \u001b[36m0:00:00\u001b[0m\n",
      "\u001b[?25hRequirement already satisfied: grpcio<2.0,>=1.24.3 in /raid/home/kawinm/miniconda3/lib/python3.9/site-packages (from tensorflow-serving-api<3.0.0,>=2.0.0->tensorflow_ranking) (1.42.0)\n",
      "Collecting tensorflow<3,>=2.11.1\n",
      "  Downloading tensorflow-2.12.0-cp39-cp39-manylinux_2_17_x86_64.manylinux2014_x86_64.whl (585.9 MB)\n",
      "\u001b[2K     \u001b[90m━━━━━━━━━━━━━━━━━━━━━━━━━━━━━━━━━━━━━━━\u001b[0m \u001b[32m585.9/585.9 MB\u001b[0m \u001b[31m9.4 MB/s\u001b[0m eta \u001b[36m0:00:00\u001b[0m00:01\u001b[0m00:01\u001b[0m\n",
      "\u001b[?25hCollecting tensorflow-io-gcs-filesystem>=0.23.1\n",
      "  Downloading tensorflow_io_gcs_filesystem-0.32.0-cp39-cp39-manylinux_2_12_x86_64.manylinux2010_x86_64.whl (2.4 MB)\n",
      "\u001b[2K     \u001b[90m━━━━━━━━━━━━━━━━━━━━━━━━━━━━━━━━━━━━━━━━\u001b[0m \u001b[32m2.4/2.4 MB\u001b[0m \u001b[31m92.2 MB/s\u001b[0m eta \u001b[36m0:00:00\u001b[0m\n",
      "\u001b[?25hRequirement already satisfied: setuptools in /raid/home/kawinm/miniconda3/lib/python3.9/site-packages (from tensorflow<3,>=2.11.1->tensorflow-serving-api<3.0.0,>=2.0.0->tensorflow_ranking) (66.0.0)\n",
      "Requirement already satisfied: flatbuffers>=2.0 in /raid/home/kawinm/miniconda3/lib/python3.9/site-packages (from tensorflow<3,>=2.11.1->tensorflow-serving-api<3.0.0,>=2.0.0->tensorflow_ranking) (2.0)\n",
      "Requirement already satisfied: h5py>=2.9.0 in /raid/home/kawinm/miniconda3/lib/python3.9/site-packages (from tensorflow<3,>=2.11.1->tensorflow-serving-api<3.0.0,>=2.0.0->tensorflow_ranking) (3.7.0)\n",
      "Collecting tensorflow-estimator<2.13,>=2.12.0\n",
      "  Downloading tensorflow_estimator-2.12.0-py2.py3-none-any.whl (440 kB)\n",
      "\u001b[2K     \u001b[90m━━━━━━━━━━━━━━━━━━━━━━━━━━━━━━━━━━━━━\u001b[0m \u001b[32m440.7/440.7 kB\u001b[0m \u001b[31m126.7 MB/s\u001b[0m eta \u001b[36m0:00:00\u001b[0m\n",
      "\u001b[?25hRequirement already satisfied: astunparse>=1.6.0 in /raid/home/kawinm/miniconda3/lib/python3.9/site-packages (from tensorflow<3,>=2.11.1->tensorflow-serving-api<3.0.0,>=2.0.0->tensorflow_ranking) (1.6.3)\n",
      "Requirement already satisfied: termcolor>=1.1.0 in /raid/home/kawinm/miniconda3/lib/python3.9/site-packages (from tensorflow<3,>=2.11.1->tensorflow-serving-api<3.0.0,>=2.0.0->tensorflow_ranking) (1.1.0)\n",
      "Requirement already satisfied: google-pasta>=0.1.1 in /raid/home/kawinm/miniconda3/lib/python3.9/site-packages (from tensorflow<3,>=2.11.1->tensorflow-serving-api<3.0.0,>=2.0.0->tensorflow_ranking) (0.2.0)\n",
      "Collecting gast<=0.4.0,>=0.2.1\n",
      "  Downloading gast-0.4.0-py3-none-any.whl (9.8 kB)\n",
      "Collecting libclang>=13.0.0\n",
      "  Downloading libclang-16.0.0-py2.py3-none-manylinux2010_x86_64.whl (22.9 MB)\n",
      "\u001b[2K     \u001b[90m━━━━━━━━━━━━━━━━━━━━━━━━━━━━━━━━━━━━━━━━\u001b[0m \u001b[32m22.9/22.9 MB\u001b[0m \u001b[31m79.0 MB/s\u001b[0m eta \u001b[36m0:00:00\u001b[0m00:01\u001b[0m00:01\u001b[0m\n",
      "\u001b[?25hRequirement already satisfied: opt-einsum>=2.3.2 in /raid/home/kawinm/miniconda3/lib/python3.9/site-packages (from tensorflow<3,>=2.11.1->tensorflow-serving-api<3.0.0,>=2.0.0->tensorflow_ranking) (3.3.0)\n",
      "Collecting tensorboard<2.13,>=2.12\n",
      "  Downloading tensorboard-2.12.0-py3-none-any.whl (5.6 MB)\n",
      "\u001b[2K     \u001b[90m━━━━━━━━━━━━━━━━━━━━━━━━━━━━━━━━━━━━━━━━\u001b[0m \u001b[32m5.6/5.6 MB\u001b[0m \u001b[31m68.9 MB/s\u001b[0m eta \u001b[36m0:00:00\u001b[0mta \u001b[36m0:00:01\u001b[0m\n",
      "\u001b[?25hCollecting tensorflow<3,>=2.11.1\n",
      "  Downloading tensorflow-2.11.1-cp39-cp39-manylinux_2_17_x86_64.manylinux2014_x86_64.whl (588.3 MB)\n",
      "\u001b[2K     \u001b[90m━━━━━━━━━━━━━━━━━━━━━━━━━━━━━━━━━━━━━━\u001b[0m \u001b[32m588.3/588.3 MB\u001b[0m \u001b[31m10.2 MB/s\u001b[0m eta \u001b[36m0:00:00\u001b[0m00:01\u001b[0m00:01\u001b[0m\n",
      "\u001b[?25hCollecting tensorflow-estimator<2.12,>=2.11.0\n",
      "  Downloading tensorflow_estimator-2.11.0-py2.py3-none-any.whl (439 kB)\n",
      "\u001b[2K     \u001b[90m━━━━━━━━━━━━━━━━━━━━━━━━━━━━━━━━━━━━━\u001b[0m \u001b[32m439.2/439.2 kB\u001b[0m \u001b[31m105.6 MB/s\u001b[0m eta \u001b[36m0:00:00\u001b[0m\n",
      "\u001b[?25hRequirement already satisfied: wrapt>=1.11.0 in /raid/home/kawinm/miniconda3/lib/python3.9/site-packages (from tensorflow<3,>=2.11.1->tensorflow-serving-api<3.0.0,>=2.0.0->tensorflow_ranking) (1.14.1)\n",
      "Collecting keras<2.12,>=2.11.0\n",
      "  Downloading keras-2.11.0-py2.py3-none-any.whl (1.7 MB)\n",
      "\u001b[2K     \u001b[90m━━━━━━━━━━━━━━━━━━━━━━━━━━━━━━━━━━━━━━━━\u001b[0m \u001b[32m1.7/1.7 MB\u001b[0m \u001b[31m2.1 MB/s\u001b[0m eta \u001b[36m0:00:00\u001b[0meta \u001b[36m0:00:01\u001b[0m\n",
      "\u001b[?25hRequirement already satisfied: packaging in /raid/home/kawinm/miniconda3/lib/python3.9/site-packages (from tensorflow<3,>=2.11.1->tensorflow-serving-api<3.0.0,>=2.0.0->tensorflow_ranking) (21.3)\n",
      "Collecting tensorboard<2.12,>=2.11\n",
      "  Downloading tensorboard-2.11.2-py3-none-any.whl (6.0 MB)\n",
      "\u001b[2K     \u001b[90m━━━━━━━━━━━━━━━━━━━━━━━━━━━━━━━━━━━━━━━━\u001b[0m \u001b[32m6.0/6.0 MB\u001b[0m \u001b[31m101.9 MB/s\u001b[0m eta \u001b[36m0:00:00\u001b[0ma \u001b[36m0:00:01\u001b[0m\n",
      "\u001b[?25hRequirement already satisfied: typing-extensions>=3.6.6 in /raid/home/kawinm/miniconda3/lib/python3.9/site-packages (from tensorflow<3,>=2.11.1->tensorflow-serving-api<3.0.0,>=2.0.0->tensorflow_ranking) (4.3.0)\n",
      "Requirement already satisfied: wheel<1.0,>=0.23.0 in /raid/home/kawinm/miniconda3/lib/python3.9/site-packages (from astunparse>=1.6.0->tensorflow<3,>=2.11.1->tensorflow-serving-api<3.0.0,>=2.0.0->tensorflow_ranking) (0.37.1)\n",
      "Requirement already satisfied: google-auth-oauthlib<0.5,>=0.4.1 in /raid/home/kawinm/miniconda3/lib/python3.9/site-packages (from tensorboard<2.12,>=2.11->tensorflow<3,>=2.11.1->tensorflow-serving-api<3.0.0,>=2.0.0->tensorflow_ranking) (0.4.4)\n",
      "Requirement already satisfied: requests<3,>=2.21.0 in /raid/home/kawinm/miniconda3/lib/python3.9/site-packages (from tensorboard<2.12,>=2.11->tensorflow<3,>=2.11.1->tensorflow-serving-api<3.0.0,>=2.0.0->tensorflow_ranking) (2.28.1)\n",
      "Requirement already satisfied: google-auth<3,>=1.6.3 in /raid/home/kawinm/miniconda3/lib/python3.9/site-packages (from tensorboard<2.12,>=2.11->tensorflow<3,>=2.11.1->tensorflow-serving-api<3.0.0,>=2.0.0->tensorflow_ranking) (2.6.0)\n",
      "Requirement already satisfied: tensorboard-data-server<0.7.0,>=0.6.0 in /raid/home/kawinm/miniconda3/lib/python3.9/site-packages (from tensorboard<2.12,>=2.11->tensorflow<3,>=2.11.1->tensorflow-serving-api<3.0.0,>=2.0.0->tensorflow_ranking) (0.6.0)\n",
      "Requirement already satisfied: tensorboard-plugin-wit>=1.6.0 in /raid/home/kawinm/miniconda3/lib/python3.9/site-packages (from tensorboard<2.12,>=2.11->tensorflow<3,>=2.11.1->tensorflow-serving-api<3.0.0,>=2.0.0->tensorflow_ranking) (1.8.1)\n",
      "Requirement already satisfied: werkzeug>=1.0.1 in /raid/home/kawinm/miniconda3/lib/python3.9/site-packages (from tensorboard<2.12,>=2.11->tensorflow<3,>=2.11.1->tensorflow-serving-api<3.0.0,>=2.0.0->tensorflow_ranking) (2.0.3)\n",
      "Requirement already satisfied: markdown>=2.6.8 in /raid/home/kawinm/miniconda3/lib/python3.9/site-packages (from tensorboard<2.12,>=2.11->tensorflow<3,>=2.11.1->tensorflow-serving-api<3.0.0,>=2.0.0->tensorflow_ranking) (3.3.4)\n",
      "Requirement already satisfied: pyparsing!=3.0.5,>=2.0.2 in /raid/home/kawinm/miniconda3/lib/python3.9/site-packages (from packaging->tensorflow<3,>=2.11.1->tensorflow-serving-api<3.0.0,>=2.0.0->tensorflow_ranking) (3.0.9)\n",
      "Requirement already satisfied: rsa<5,>=3.1.4 in /raid/home/kawinm/miniconda3/lib/python3.9/site-packages (from google-auth<3,>=1.6.3->tensorboard<2.12,>=2.11->tensorflow<3,>=2.11.1->tensorflow-serving-api<3.0.0,>=2.0.0->tensorflow_ranking) (4.7.2)\n",
      "Requirement already satisfied: pyasn1-modules>=0.2.1 in /raid/home/kawinm/miniconda3/lib/python3.9/site-packages (from google-auth<3,>=1.6.3->tensorboard<2.12,>=2.11->tensorflow<3,>=2.11.1->tensorflow-serving-api<3.0.0,>=2.0.0->tensorflow_ranking) (0.2.8)\n",
      "Requirement already satisfied: cachetools<6.0,>=2.0.0 in /raid/home/kawinm/miniconda3/lib/python3.9/site-packages (from google-auth<3,>=1.6.3->tensorboard<2.12,>=2.11->tensorflow<3,>=2.11.1->tensorflow-serving-api<3.0.0,>=2.0.0->tensorflow_ranking) (4.2.2)\n",
      "Requirement already satisfied: requests-oauthlib>=0.7.0 in /raid/home/kawinm/miniconda3/lib/python3.9/site-packages (from google-auth-oauthlib<0.5,>=0.4.1->tensorboard<2.12,>=2.11->tensorflow<3,>=2.11.1->tensorflow-serving-api<3.0.0,>=2.0.0->tensorflow_ranking) (1.3.0)\n",
      "Requirement already satisfied: certifi>=2017.4.17 in /raid/home/kawinm/miniconda3/lib/python3.9/site-packages (from requests<3,>=2.21.0->tensorboard<2.12,>=2.11->tensorflow<3,>=2.11.1->tensorflow-serving-api<3.0.0,>=2.0.0->tensorflow_ranking) (2022.12.7)\n",
      "Requirement already satisfied: charset-normalizer<3,>=2 in /raid/home/kawinm/miniconda3/lib/python3.9/site-packages (from requests<3,>=2.21.0->tensorboard<2.12,>=2.11->tensorflow<3,>=2.11.1->tensorflow-serving-api<3.0.0,>=2.0.0->tensorflow_ranking) (2.0.4)\n",
      "Requirement already satisfied: urllib3<1.27,>=1.21.1 in /raid/home/kawinm/miniconda3/lib/python3.9/site-packages (from requests<3,>=2.21.0->tensorboard<2.12,>=2.11->tensorflow<3,>=2.11.1->tensorflow-serving-api<3.0.0,>=2.0.0->tensorflow_ranking) (1.26.11)\n",
      "Requirement already satisfied: idna<4,>=2.5 in /raid/home/kawinm/miniconda3/lib/python3.9/site-packages (from requests<3,>=2.21.0->tensorboard<2.12,>=2.11->tensorflow<3,>=2.11.1->tensorflow-serving-api<3.0.0,>=2.0.0->tensorflow_ranking) (3.3)\n",
      "Requirement already satisfied: pyasn1<0.5.0,>=0.4.6 in /raid/home/kawinm/miniconda3/lib/python3.9/site-packages (from pyasn1-modules>=0.2.1->google-auth<3,>=1.6.3->tensorboard<2.12,>=2.11->tensorflow<3,>=2.11.1->tensorflow-serving-api<3.0.0,>=2.0.0->tensorflow_ranking) (0.4.8)\n",
      "Requirement already satisfied: oauthlib>=3.0.0 in /raid/home/kawinm/miniconda3/lib/python3.9/site-packages (from requests-oauthlib>=0.7.0->google-auth-oauthlib<0.5,>=0.4.1->tensorboard<2.12,>=2.11->tensorflow<3,>=2.11.1->tensorflow-serving-api<3.0.0,>=2.0.0->tensorflow_ranking) (3.2.0)\n",
      "Installing collected packages: libclang, tensorflow-io-gcs-filesystem, tensorflow-estimator, protobuf, numpy, keras, gast, tensorboard, tensorflow, tensorflow-serving-api, tensorflow_ranking\n",
      "\u001b[33m  WARNING: The scripts f2py, f2py3 and f2py3.9 are installed in '/raid/home/kawinm/.local/bin' which is not on PATH.\n",
      "  Consider adding this directory to PATH or, if you prefer to suppress this warning, use --no-warn-script-location.\u001b[0m\u001b[33m\n",
      "\u001b[0m\u001b[33m  WARNING: The script tensorboard is installed in '/raid/home/kawinm/.local/bin' which is not on PATH.\n",
      "  Consider adding this directory to PATH or, if you prefer to suppress this warning, use --no-warn-script-location.\u001b[0m\u001b[33m\n",
      "\u001b[0m\u001b[33m  WARNING: The scripts estimator_ckpt_converter, import_pb_to_tensorboard, saved_model_cli, tensorboard, tf_upgrade_v2, tflite_convert, toco and toco_from_protos are installed in '/raid/home/kawinm/.local/bin' which is not on PATH.\n",
      "  Consider adding this directory to PATH or, if you prefer to suppress this warning, use --no-warn-script-location.\u001b[0m\u001b[33m\n",
      "\u001b[0m\u001b[31mERROR: pip's dependency resolver does not currently take into account all the packages that are installed. This behaviour is the source of the following dependency conflicts.\n",
      "torchtext 0.6.0 requires sentencepiece, which is not installed.\n",
      "scipy 1.7.3 requires numpy<1.23.0,>=1.16.5, but you have numpy 1.23.2 which is incompatible.\u001b[0m\u001b[31m\n",
      "\u001b[0mSuccessfully installed gast-0.4.0 keras-2.11.0 libclang-16.0.0 numpy-1.23.2 protobuf-3.19.6 tensorboard-2.11.2 tensorflow-2.11.1 tensorflow-estimator-2.11.0 tensorflow-io-gcs-filesystem-0.32.0 tensorflow-serving-api-2.11.1 tensorflow_ranking-0.5.2\n"
     ]
    }
   ],
   "source": [
    "! pip install --user --upgrade tensorflow_ranking"
   ]
  },
  {
   "cell_type": "code",
   "execution_count": null,
   "metadata": {},
   "outputs": [],
   "source": []
  }
 ],
 "metadata": {
  "kernelspec": {
   "display_name": "base",
   "language": "python",
   "name": "python3"
  },
  "language_info": {
   "codemirror_mode": {
    "name": "ipython",
    "version": 3
   },
   "file_extension": ".py",
   "mimetype": "text/x-python",
   "name": "python",
   "nbconvert_exporter": "python",
   "pygments_lexer": "ipython3",
   "version": "3.9.12"
  },
  "orig_nbformat": 4
 },
 "nbformat": 4,
 "nbformat_minor": 2
}
